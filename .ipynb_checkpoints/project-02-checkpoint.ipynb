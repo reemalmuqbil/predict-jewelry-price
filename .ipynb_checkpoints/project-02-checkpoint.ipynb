{
 "cells": [
  {
   "cell_type": "markdown",
   "metadata": {},
   "source": [
    "## Web scraping and pickling \n",
    "Data was acquired and pickled in another notebook. To see the full steps and details regarding this step, head to the project-02-pickling.ipynb file. In this step I'm only reading the dataframe from a pickle file generated from the mentioned notebook."
   ]
  },
  {
   "cell_type": "code",
   "execution_count": 1,
   "metadata": {},
   "outputs": [],
   "source": [
    "import pickle"
   ]
  },
  {
   "cell_type": "code",
   "execution_count": 2,
   "metadata": {},
   "outputs": [],
   "source": [
    "pickle_in = open(\"products_df_bs.pickle\",\"rb\")\n",
    "products_df = pickle.load(pickle_in)"
   ]
  },
  {
   "cell_type": "code",
   "execution_count": 3,
   "metadata": {},
   "outputs": [
    {
     "data": {
      "text/plain": [
       "1091"
      ]
     },
     "execution_count": 3,
     "metadata": {},
     "output_type": "execute_result"
    }
   ],
   "source": [
    "len(products_df)"
   ]
  },
  {
   "cell_type": "markdown",
   "metadata": {},
   "source": [
    "## Data Preprocessing and Feature Engineering  \n",
    "##### Initial cleaning\n",
    "* Remove non-numerical characters from the price features.\n",
    "* Convert non-numerical dimentions into float datatypes.\n",
    "* Handle NaN values.\n",
    "* Delete rows with no target values or with target value quals to zero.\n",
    "\n"
   ]
  },
  {
   "cell_type": "code",
   "execution_count": 4,
   "metadata": {},
   "outputs": [],
   "source": [
    "import re\n",
    "import pandas as pd\n",
    "import numpy as np\n",
    "import matplotlib.pyplot as plt"
   ]
  },
  {
   "cell_type": "code",
   "execution_count": 5,
   "metadata": {},
   "outputs": [],
   "source": [
    "#  Options \n",
    "pd.set_option(\"display.max_rows\", 1091)"
   ]
  },
  {
   "cell_type": "code",
   "execution_count": 6,
   "metadata": {},
   "outputs": [],
   "source": [
    "def init_cleaning(dataframe):\n",
    "#     remove non-numerical characters from the price features.\n",
    "    dataframe['price'] = [re.sub(\"[^0-9]\", '', price) for price in dataframe['price']]\n",
    "    \n",
    "#     Convert non-numerical dimentions into float datatype.\n",
    "    dataframe['item_package_quantity'] = pd.to_numeric(dataframe['item_package_quantity'])\n",
    "    dataframe['gross_wieght'] = pd.to_numeric(dataframe['gross_wieght'])\n",
    "    dataframe['net_wieght'] = pd.to_numeric(dataframe['net_wieght'])\n",
    "    dataframe['ring_size'] = pd.to_numeric(dataframe['ring_size'])\n",
    "    dataframe['carat_CT'] = pd.to_numeric(dataframe['carat_CT'])\n",
    "    dataframe['diamond_pcs'] = pd.to_numeric(dataframe['diamond_pcs'])\n",
    "    dataframe['price'] = pd.to_numeric(dataframe['price'])  \n",
    "    \n",
    "#     Handle NaN values\n",
    "    dataframe[\"diamond_pcs\"].fillna(value=0, inplace=True)\n",
    "    dataframe[\"carat_CT\"].fillna(value=0, inplace=True)\n",
    "    for index, row in dataframe.iterrows():\n",
    "        if dataframe['item_package_quantity'][index] != 1 or dataframe['item_package_quantity'][index] != 2:\n",
    "            if dataframe['product_type'][index] == \"Earring\":\n",
    "                dataframe['item_package_quantity'][index] = 2\n",
    "            else:\n",
    "                dataframe['item_package_quantity'][index] = 1\n",
    "    dataframe = dataframe.drop(columns = ['ring_size'])\n",
    "#     dataframe = dataframe.dropna(subset=['gross_wieght'])\n",
    "#     Exclude rows with no price value \n",
    "    dataframe = dataframe[dataframe['price'] != 0.0]\n",
    "    return dataframe"
   ]
  },
  {
   "cell_type": "code",
   "execution_count": 7,
   "metadata": {},
   "outputs": [],
   "source": [
    "def transform_purity(dataframe):\n",
    "    #     convert purity from categorical to float \n",
    "    dataframe['purity_KT'] = [purity.split(' ')[0] for purity in dataframe['purity_KT']]\n",
    "    dataframe['purity_KT'] = [0.917 if purity == \"22\" else 0.75 for purity in dataframe['purity_KT']]\n",
    "    return dataframe"
   ]
  },
  {
   "cell_type": "code",
   "execution_count": 8,
   "metadata": {},
   "outputs": [],
   "source": [
    "def transform_brand(dataframe):\n",
    "#     plot before transformation \n",
    "    brand_count = dataframe.brand.value_counts()\n",
    "    plt.bar(brand_count.index, brand_count)\n",
    "    plt.xlabel('Brands', fontsize=10)\n",
    "    plt.ylabel('Count', fontsize=10)\n",
    "    plt.title('Brand Frequency Values')\n",
    "    plt.show()\n",
    "#     transform \n",
    "    dataframe['brand_Malabar'] = dataframe.brand.apply((lambda x: 1 if (x == 'Malabar') else 0))\n",
    "    dataframe['brand_Mine'] = dataframe.brand.apply(lambda x: 1 if x == 'Mine' else 0)\n",
    "    dataframe.drop(['brand'], inplace= True, axis=1)\n",
    "#     plot after transformation \n",
    "    x = ['brand Malabar', 'brand Mine', 'others']\n",
    "    y_pos = np.arange(len(x))\n",
    "    y = [len(dataframe[dataframe['brand_Malabar'] == 1]), len(dataframe[dataframe['brand_Mine'] == 1]), len(dataframe[(dataframe['brand_Mine'] == 0) & (dataframe['brand_Malabar'] == 0)])]\n",
    "    plt.bar(y_pos, y)\n",
    "    plt.xticks(y_pos, x)\n",
    "    plt.xlabel('Brands', fontsize=10)\n",
    "    plt.ylabel('Count', fontsize=10)\n",
    "    plt.title('Brand Frequency Values After One-hot Encoding')\n",
    "    plt.show()\n",
    "    return dataframe"
   ]
  },
  {
   "cell_type": "code",
   "execution_count": 9,
   "metadata": {},
   "outputs": [],
   "source": [
    "def transform_gender(dataframe):\n",
    "#     plot before transformation \n",
    "    gender_count = dataframe.gender.value_counts()\n",
    "    plt.bar(gender_count.index, gender_count, color = 'red')\n",
    "    plt.xlabel('Gender', fontsize=10)\n",
    "    plt.ylabel('Count', fontsize=10)\n",
    "    plt.title('Gender Frequency Values')\n",
    "    plt.show()\n",
    "#     transform \n",
    "    gender_dummy = pd.get_dummies(dataframe['gender']).iloc[:,3:]\n",
    "    dataframe['gender_women'] = gender_dummy\n",
    "    dataframe.drop(['gender'], inplace= True, axis=1)\n",
    "#     plot after transformation \n",
    "    x = ['ًWomen', 'others']\n",
    "    y_pos = np.arange(len(x))\n",
    "    y = [len(dataframe[dataframe['gender_women'] == 1]), len(dataframe[dataframe['gender_women'] == 0])]\n",
    "    plt.bar(y_pos, y, color = 'red')\n",
    "    plt.xticks(y_pos, x)\n",
    "    plt.xlabel('Gender', fontsize=10)\n",
    "    plt.ylabel('Count', fontsize=10)\n",
    "    plt.title('Gender Frequency Values After One-hot Encoding')\n",
    "    plt.show()\n",
    "    return dataframe"
   ]
  },
  {
   "cell_type": "code",
   "execution_count": 10,
   "metadata": {},
   "outputs": [],
   "source": [
    "def transform_metal_color(dataframe):\n",
    "#     plot before transformation \n",
    "    metal_color_count = dataframe.metal_color.value_counts()\n",
    "    plt.bar(metal_color_count.index, metal_color_count, color = 'green')\n",
    "    plt.xlabel('Metal Color', fontsize=10)\n",
    "    plt.ylabel('Count', fontsize=10)\n",
    "    plt.title('Metal color Frequency Values Before Transformation')\n",
    "    plt.show()\n",
    "    \n",
    "#     transform \n",
    "    metal_color_dummy = pd.get_dummies(dataframe['metal_color']).iloc[:, 7:]\n",
    "    dataframe['metal_color_yellow'] = metal_color_dummy\n",
    "    dataframe.drop(['metal_color'], inplace= True, axis=1)\n",
    "\n",
    "#     plot after transformation \n",
    "    x = ['Yellow', 'Others']\n",
    "    y_pos = np.arange(len(x))\n",
    "    y = [len(dataframe[dataframe['metal_color_yellow'] == 1]), len(dataframe[dataframe['metal_color_yellow'] == 0])]\n",
    "    plt.bar(y_pos, y, color = 'green')\n",
    "    plt.xticks(y_pos, x)\n",
    "    plt.xlabel('Metal Color', fontsize=10)\n",
    "    plt.ylabel('Count', fontsize=10)\n",
    "    plt.title('Metal Color Frequency Values After Transformation')\n",
    "    plt.show()\n",
    "    return dataframe"
   ]
  },
  {
   "cell_type": "code",
   "execution_count": 11,
   "metadata": {},
   "outputs": [],
   "source": [
    "def transform_g_cert(dataframe):\n",
    "#     transform \n",
    "    g_cert_dummy = pd.get_dummies(dataframe['g_cert'])\n",
    "    dataframe['g_cert_916'] = g_cert_dummy.iloc[:,2:]\n",
    "    dataframe['g_cert_750'] = g_cert_dummy.iloc[:,1:2]\n",
    "    dataframe.drop(['g_cert'], inplace= True, axis=1)\n",
    "    return dataframe"
   ]
  },
  {
   "cell_type": "code",
   "execution_count": 12,
   "metadata": {},
   "outputs": [],
   "source": [
    "def transform_d_cert(dataframe):\n",
    "#     transform \n",
    "    d_cert_dummy = pd.get_dummies(dataframe['d_cert']).iloc[:,1:]\n",
    "    dataframe['IGI_cert'] = d_cert_dummy\n",
    "    dataframe.drop(['d_cert'], inplace= True, axis=1)\n",
    "    return dataframe"
   ]
  },
  {
   "cell_type": "code",
   "execution_count": 13,
   "metadata": {},
   "outputs": [],
   "source": [
    "def transform_product_type(dataframe):\n",
    "#     transform \n",
    "    product_type_dummy = pd.get_dummies(dataframe['product_type'])\n",
    "    dataframe['ring'] = product_type_dummy.iloc[:,3:]\n",
    "    dataframe['earring'] = product_type_dummy.iloc[:,1:2]\n",
    "    dataframe.drop(['product_type'], inplace= True, axis=1)\n",
    "    return dataframe"
   ]
  },
  {
   "cell_type": "code",
   "execution_count": 14,
   "metadata": {},
   "outputs": [],
   "source": [
    "def transform_diamond_color(dataframe):\n",
    "#     transform \n",
    "    diamond_color_dummy = pd.get_dummies(dataframe['diamond_color'])\n",
    "    dataframe['GH'] = diamond_color_dummy.iloc[:,3:4]\n",
    "    dataframe.drop(['diamond_color'], inplace= True, axis=1)\n",
    "    return dataframe"
   ]
  },
  {
   "cell_type": "code",
   "execution_count": 15,
   "metadata": {},
   "outputs": [
    {
     "name": "stderr",
     "output_type": "stream",
     "text": [
      "/Users/hi/anaconda3/envs/metis/lib/python3.6/site-packages/ipykernel_launcher.py:20: SettingWithCopyWarning: \n",
      "A value is trying to be set on a copy of a slice from a DataFrame\n",
      "\n",
      "See the caveats in the documentation: http://pandas.pydata.org/pandas-docs/stable/user_guide/indexing.html#returning-a-view-versus-a-copy\n",
      "/Users/hi/anaconda3/envs/metis/lib/python3.6/site-packages/ipykernel_launcher.py:22: SettingWithCopyWarning: \n",
      "A value is trying to be set on a copy of a slice from a DataFrame\n",
      "\n",
      "See the caveats in the documentation: http://pandas.pydata.org/pandas-docs/stable/user_guide/indexing.html#returning-a-view-versus-a-copy\n"
     ]
    }
   ],
   "source": [
    "initially_cleaned_df = init_cleaning(products_df)"
   ]
  },
  {
   "cell_type": "code",
   "execution_count": 16,
   "metadata": {},
   "outputs": [],
   "source": [
    "# with open('initially_cleaned_df.pkl', 'wb') as picklefile:\n",
    "#     pickle.dump(initially_cleaned_df, picklefile)"
   ]
  },
  {
   "cell_type": "code",
   "execution_count": 17,
   "metadata": {},
   "outputs": [
    {
     "data": {
      "text/plain": [
       "(1040, 14)"
      ]
     },
     "execution_count": 17,
     "metadata": {},
     "output_type": "execute_result"
    }
   ],
   "source": [
    "initially_cleaned_df.shape"
   ]
  },
  {
   "cell_type": "markdown",
   "metadata": {},
   "source": [
    "##### Feature transformation \n",
    "* __Purity (KT):__ Convert the purity_KT dimention from categorical into float representing the gold percentage. In this dataset, the unique values of this column are 22 and 18 only. 22 category is represented with a 0.917 purity percentage and 18 is represented with 0.75 purity percentage.\n"
   ]
  },
  {
   "cell_type": "code",
   "execution_count": 18,
   "metadata": {},
   "outputs": [],
   "source": [
    "transformed_purity = transform_purity(initially_cleaned_df)"
   ]
  },
  {
   "cell_type": "markdown",
   "metadata": {},
   "source": [
    "* __Brand:__ From visualizing the distribution of values at the brand dimention, I noticed that the majority of data are clustering on the Malabar and Mine brand bars. Therefore, only Malabar and Mine brands are kept as dimentions and any brand other than these two will reflect to neither.\n"
   ]
  },
  {
   "cell_type": "code",
   "execution_count": 19,
   "metadata": {},
   "outputs": [
    {
     "data": {
      "image/png": "[encoded data removed]",
      "text/plain": [
       "<Figure size 432x288 with 1 Axes>"
      ]
     },
     "metadata": {
      "needs_background": "light"
     },
     "output_type": "display_data"
    },
    {
     "data": {
      "image/png": "[encoded data removed]",
      "text/plain": [
       "<Figure size 432x288 with 1 Axes>"
      ]
     },
     "metadata": {
      "needs_background": "light"
     },
     "output_type": "display_data"
    }
   ],
   "source": [
    "encoded_brands = transform_brand(transformed_purity)"
   ]
  },
  {
   "cell_type": "markdown",
   "metadata": {},
   "source": [
    "* __Gender:__ The gender dimention contains the unique values (Women, Kids, Men, and none). Looking at the values distribution in the bar chart, Women category records a significantly high count against the other categories. Therefore, this feature will be transformed into a Women_gender feature where 1 equals to women and 0 equals others.\n",
    "\n"
   ]
  },
  {
   "cell_type": "code",
   "execution_count": 20,
   "metadata": {},
   "outputs": [
    {
     "data": {
      "image/png": "[encoded data removed]",
      "text/plain": [
       "<Figure size 432x288 with 1 Axes>"
      ]
     },
     "metadata": {
      "needs_background": "light"
     },
     "output_type": "display_data"
    },
    {
     "data": {
      "image/png": "[encoded data removed]",
      "text/plain": [
       "<Figure size 432x288 with 1 Axes>"
      ]
     },
     "metadata": {
      "needs_background": "light"
     },
     "output_type": "display_data"
    }
   ],
   "source": [
    "encoded_gender = transform_gender(encoded_brands)"
   ]
  },
  {
   "cell_type": "markdown",
   "metadata": {},
   "source": [
    "* __Metal Color:__ The unique values of the metal dimention and their frequencies are shown in the table below:\n",
    "\n",
    "| Meta Color    | Count         |\n",
    "| ------------- |:-------------:|\n",
    "| Yellow        | 718           |\n",
    "| Rose          | 129           |\n",
    "| Two Tone      | 108           |\n",
    "| White         | 44            |\n",
    "| Two tone      | 31            |\n",
    "| NaN           | 6             |\n",
    "| Multicolour   | 2             |\n",
    "| Three Tone    | 2             |\n",
    "\n",
    "\n",
    "Looking at the table and values distribution, Yellow records a significantly high count value against the other colors. Therefore, this feature will be transformed into a metal_color_yellow feature where 1 equals to yellow and 0 equals other color values.\n"
   ]
  },
  {
   "cell_type": "code",
   "execution_count": 21,
   "metadata": {},
   "outputs": [
    {
     "data": {
      "image/png": "[encoded data removed]",
      "text/plain": [
       "<Figure size 432x288 with 1 Axes>"
      ]
     },
     "metadata": {
      "needs_background": "light"
     },
     "output_type": "display_data"
    },
    {
     "data": {
      "image/png": "[encoded data removed]",
      "text/plain": [
       "<Figure size 432x288 with 1 Axes>"
      ]
     },
     "metadata": {
      "needs_background": "light"
     },
     "output_type": "display_data"
    }
   ],
   "source": [
    "encoded_metal_color = transform_metal_color(encoded_gender)"
   ]
  },
  {
   "cell_type": "markdown",
   "metadata": {},
   "source": [
    "\n",
    "* __Gold Cetrificate:__ This feature represented in the dataset with the \"g_cert\" dimention and its value counts are recorded in the table below:\n",
    "\n",
    "|Certificate Name|Count|\n",
    "|----------------|:---:|\n",
    "|None            |604  |\n",
    "|916             |316  |\n",
    "|750             |120  |\n",
    "\n",
    "Looking at the table, it seems to me it wouldn't be fair to keep one dummy variable only due to the following reasons:\n",
    "\n",
    "1. The significantly high count belongs to items which has no certificate.\n",
    "2. The frequency count is not culstering at a single valuable certificate as much as the previous features were heavily clustered on a single feature.\n",
    "\n",
    "Therefore, for this case, I decided to include all of this feature values as dummy variables.\n",
    "\n"
   ]
  },
  {
   "cell_type": "code",
   "execution_count": 22,
   "metadata": {},
   "outputs": [],
   "source": [
    "encoded_g_cert = transform_g_cert(encoded_metal_color)"
   ]
  },
  {
   "cell_type": "markdown",
   "metadata": {},
   "source": [
    "* __Diamond Certificate:__ This feature represented in the dataset with the \"d_cert\" dimention and its value counts are recorded in the table below:\n",
    "\n",
    "|Certificate Name|Count|\n",
    "|----------------|:---:|\n",
    "|None            |868  |\n",
    "|IGI             |172  |\n",
    "\n",
    "       \n",
    "The unique values number on this feature makes it easier to choose whether to keep all values as dummy variables or not. Since it's binary, this limits our dicision to the rule of thumb of dummy variables number. Which is { k-1 | k = len( d_cert.unique() ) } "
   ]
  },
  {
   "cell_type": "code",
   "execution_count": 23,
   "metadata": {},
   "outputs": [],
   "source": [
    "encoded_d_cert = transform_d_cert(encoded_g_cert)"
   ]
  },
  {
   "cell_type": "markdown",
   "metadata": {},
   "source": [
    "* __Product Type:__  This table shows the frequency values for each category in the product_type dimention:\n",
    "\n",
    "|Product Type    |Count|\n",
    "|----------------|:---:|\n",
    "|Ring            |475  |\n",
    "|Earring         |368  |\n",
    "|Pendant         |194  |\n",
    "|NaN             |3    |\n",
    "\n",
    "Since there is no value which holds the majority of data, I've decided to use the top 2 values as my dummy variables for this feature."
   ]
  },
  {
   "cell_type": "code",
   "execution_count": 24,
   "metadata": {},
   "outputs": [],
   "source": [
    "encoded_product_type = transform_product_type(encoded_d_cert)"
   ]
  },
  {
   "cell_type": "code",
   "execution_count": 25,
   "metadata": {},
   "outputs": [
    {
     "data": {
      "text/plain": [
       "      672\n",
       "GH    365\n",
       "G       1\n",
       "FG      1\n",
       "HI      1\n",
       "Name: diamond_color, dtype: int64"
      ]
     },
     "execution_count": 25,
     "metadata": {},
     "output_type": "execute_result"
    }
   ],
   "source": [
    "encoded_product_type.diamond_color.value_counts()"
   ]
  },
  {
   "cell_type": "code",
   "execution_count": 26,
   "metadata": {},
   "outputs": [],
   "source": [
    "encoded_diamond_color = transform_diamond_color(encoded_product_type)"
   ]
  },
  {
   "cell_type": "code",
   "execution_count": 33,
   "metadata": {},
   "outputs": [],
   "source": [
    "removed_nan_rows = encoded_diamond_color.dropna()"
   ]
  },
  {
   "cell_type": "code",
   "execution_count": null,
   "metadata": {},
   "outputs": [],
   "source": []
  }
 ],
 "metadata": {
  "kernelspec": {
   "display_name": "Python [conda env:metis] *",
   "language": "python",
   "name": "conda-env-metis-py"
  },
  "language_info": {
   "codemirror_mode": {
    "name": "ipython",
    "version": 3
   },
   "file_extension": ".py",
   "mimetype": "text/x-python",
   "name": "python",
   "nbconvert_exporter": "python",
   "pygments_lexer": "ipython3",
   "version": "3.6.9"
  }
 },
 "nbformat": 4,
 "nbformat_minor": 2
}
